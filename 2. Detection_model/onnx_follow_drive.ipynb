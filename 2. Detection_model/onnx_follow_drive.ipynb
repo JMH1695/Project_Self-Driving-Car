# onnx_follow_drive.py
# ONNX 탐지 → 타깃 선택 → 조향(-1~1) → AutoCar 추종

import time
import cv2
import numpy as np
import onnxruntime as ort
from pop import Camera, Pilot, Util

# ===================== 사용자 설정 =====================
ONNX_MODEL = "best.onnx"              # ONNX 모델 경로
INPUT_SIZE = (640, 640)               # (w, h) - 모델 입력 크기
CONF_THRES = 0.35
IOU_THRES  = 0.45
PROVIDERS  = [
    "TensorrtExecutionProvider",      # Jetson이면 TRT → CUDA → CPU 순으로 시도
    "CUDAExecutionProvider",
    "CPUExecutionProvider"
]

CLASS_NAMES = ["glue", "postit"]      # 모델 클래스 이름. 알면 채워두기(미상이어도 동작)
TARGET_CLASS = None                   # 예: "glue" 로 지정하면 해당 클래스만 추적. None이면 가장 큰 박스
SPEED = 28                            # 주행 속도
STEER_GAIN = 1.6                      # 좌우 오프셋 → 조향 변환 게인
EMA_ALPHA = 0.3                       # 조향 스무딩(0~1, 클수록 즉각적)
NO_DET_STEER_DECAY = 0.85             # 미탐시 조향 점진 복귀
# ======================================================

# ---------- 공통 유틸 ----------
def letterbox(img, new_shape=(640, 640), color=(114, 114, 114)):
    h, w = img.shape[:2]
    r = min(new_shape[1] / h, new_shape[0] / w)
    nh, nw = int(round(h * r)), int(round(w * r))
    pad = (new_shape[0] - nw, new_shape[1] - nh)  # (w_pad, h_pad)
    dw, dh = pad[0] / 2, pad[1] / 2
    if (w, h) != (nw, nh):
        img = cv2.resize(img, (nw, nh), interpolation=cv2.INTER_LINEAR)
    top, bottom = int(round(dh - 0.1)), int(round(dh + 0.1))
    left, right = int(round(dw - 0.1)), int(round(dw + 0.1))
    img = cv2.copyMakeBorder(img, top, bottom, left, right, cv2.BORDER_CONSTANT, value=color)
    return img, r, (dw, dh)

def nms_numpy(boxes, scores, iou_thres=0.45):
    # boxes: (N,4) xyxy, scores: (N,)
    idxs = scores.argsort()[::-1]
    keep = []
    while idxs.size > 0:
        i = idxs[0]
        keep.append(i)
        if idxs.size == 1:
            break
        ious = iou_xyxy(boxes[i], boxes[idxs[1:]])
        idxs = idxs[1:][ious <= iou_thres]
    return np.array(keep, dtype=np.int32)

def iou_xyxy(a, bs):
    # a: (4,), bs: (M,4)
    xx1 = np.maximum(a[0], bs[:,0])
    yy1 = np.maximum(a[1], bs[:,1])
    xx2 = np.minimum(a[2], bs[:,2])
    yy2 = np.minimum(a[3], bs[:,3])
    inter = np.maximum(0, xx2-xx1) * np.maximum(0, yy2-yy1)
    area_a = (a[2]-a[0])*(a[3]-a[1])
    area_b = (bs[:,2]-bs[:,0])*(bs[:,3]-bs[:,1])
    return inter / (area_a + area_b - inter + 1e-6)

def xywh2xyxy(xywh):
    x, y, w, h = xywh.T
    x1 = x - w/2
    y1 = y - h/2
    x2 = x + w/2
    y2 = y + h/2
    return np.stack([x1, y1, x2, y2], axis=1)

# ---------- ONNX 추론 래퍼 ----------
class OnnxDetector:
    def __init__(self, model_path, providers):
        self.sess = ort.InferenceSession(model_path, providers=providers)
        self.inp_name = self.sess.get_inputs()[0].name
        self.out_names = [o.name for o in self.sess.get_outputs()]

    def detect(self, img_bgr):
        ih, iw = img_bgr.shape[:2]
        # preprocess (BGR->RGB, letterbox, NCHW, 0~1)
        img_rgb = cv2.cvtColor(img_bgr, cv2.COLOR_BGR2RGB)
        lb, r, (dw, dh) = letterbox(img_rgb, new_shape=INPUT_SIZE)
        blob = lb.astype(np.float32) / 255.0
        blob = np.transpose(blob, (2,0,1))[None, ...]  # 1x3xHxW

        preds = self.sess.run(self.out_names, {self.inp_name: blob})[0]
        # YOLOv5 기본: (1, N, 5+C) or (1, 5+C, N) → (N, 5+C)
        p = preds
        if p.ndim == 3:
            if p.shape[1] == 5 or p.shape[1] > p.shape[2]:
                p = np.transpose(p, (0,2,1))
            p = p[0]
        elif p.ndim == 2:
            pass
        else:
            raise ValueError(f"Unexpected ONNX output shape: {p.shape}")

        # 분해: [x,y,w,h, conf, cls_scores...]
        if p.shape[1] < 6:
            return []  # 형식 미일치
        boxes_xywh = p[:, :4]
        obj_conf   = p[:, 4:5]
        cls_scores = p[:, 5:]
        if cls_scores.size == 0:
            conf = obj_conf.squeeze()
            cls_ids = np.zeros_like(conf, dtype=int)
        else:
            cls_ids = np.argmax(cls_scores, axis=1)
            conf = (obj_conf.squeeze() * cls_scores.max(axis=1))

        # 스코어 필터
        mask = conf >= CONF_THRES
        if not np.any(mask):
            return []
        boxes_xywh = boxes_xywh[mask]
        conf = conf[mask]
        cls_ids = cls_ids[mask]

        # 좌표 복원: letterbox 역변환 → 원본 xyxy
        boxes_xyxy = xywh2xyxy(boxes_xywh)
        # scale from INPUT_SIZE to padded image, then remove pad, then to original
        gain = min(INPUT_SIZE[0] / iw, INPUT_SIZE[1] / ih)
        # 우리 letterbox()에서는 r = gain, pad = (dw, dh) in INPUT coords
        # 여기서는 boxes가 INPUT 좌표라 가정
        boxes_xyxy[:, [0,2]] -= (INPUT_SIZE[0] - iw*gain)/2
        boxes_xyxy[:, [1,3]] -= (INPUT_SIZE[1] - ih*gain)/2
        boxes_xyxy /= gain
        boxes_xyxy[:, [0,2]] = boxes_xyxy[:, [0,2]].clip(0, iw-1)
        boxes_xyxy[:, [1,3]] = boxes_xyxy[:, [1,3]].clip(0, ih-1)

        # NMS
        keep = nms_numpy(boxes_xyxy, conf, IOU_THRES)
        boxes_xyxy = boxes_xyxy[keep]
        conf = conf[keep]
        cls_ids = cls_ids[keep]

        dets = []
        for b, s, c in zip(boxes_xyxy, conf, cls_ids):
            dets.append({
                "xyxy": b.astype(float),
                "conf": float(s),
                "cls": int(c),
                "label": CLASS_NAMES[int(c)] if 0 <= int(c) < len(CLASS_NAMES) else str(int(c))
            })
        return dets

# ---------- 타깃 선택 & 조향 ----------
def pick_target(dets):
    if not dets:
        return None
    if TARGET_CLASS is not None:
        # 이름 또는 정수 id 모두 허용
        filtered = []
        for d in dets:
            if isinstance(TARGET_CLASS, str):
                if d["label"] == TARGET_CLASS:
                    filtered.append(d)
            else:
                if d["cls"] == int(TARGET_CLASS):
                    filtered.append(d)
        dets = filtered if filtered else dets
    # 가장 큰 면적(화면 내 영향이 큰 대상) 선택
    areas = [ (d["xyxy"][2]-d["xyxy"][0]) * (d["xyxy"][3]-d["xyxy"][1]) for d in dets ]
    return dets[int(np.argmax(areas))]

def steer_from_bbox(bbox_xyxy, img_w, gain=1.6):
    x1, y1, x2, y2 = bbox_xyxy
    cx = (x1 + x2) * 0.5
    norm = (cx - img_w/2) / (img_w/2)    # [-1,1], 좌(-), 우(+)
    steer = np.clip(norm * gain, -1.0, 1.0)
    return float(steer)

# ===================== 메인 루프 =====================
def main():
    # 카메라/차량
    cam = Camera(300, 300)
    car = Pilot.AutoCar()
    car.setObstacleDistance(0)
    car.forward(SPEED)

    # ONNX 세션
    try:
        sess = OnnxDetector(ONNX_MODEL, PROVIDERS)
    except Exception as e:
        print("[오류] ONNX 세션 생성 실패:", e)
        return

    ema_steer = 0.0
    last_det_ts = 0.0

    try:
        while True:
            frame = cam.value.copy()   # BGR
            h, w = frame.shape[:2]

            dets = sess.detect(frame)
            tgt = pick_target(dets)

            if tgt is not None:
                # 조향 계산
                steer = steer_from_bbox(tgt["xyxy"], w, gain=STEER_GAIN)
                # 스무딩
                ema_steer = EMA_ALPHA * steer + (1-EMA_ALPHA) * ema_steer
                last_det_ts = time.time()

                # 디버그 렌더
                x1,y1,x2,y2 = map(int, tgt["xyxy"])
                cv2.rectangle(frame, (x1,y1), (x2,y2), (0,255,0), 2)
                cv2.line(frame, (w//2,0), (w//2,h), (255,255,255), 1)
                cx = int((x1+x2)/2)
                cv2.line(frame, (cx,0), (cx,h), (0,255,255), 1)
                cv2.putText(frame, f"{tgt['label']} {tgt['conf']:.2f} steer:{ema_steer:+.2f}",
                            (x1, max(0,y1-8)), cv2.FONT_HERSHEY_SIMPLEX, 0.5, (0,255,0), 1, cv2.LINE_AA)
            else:
                # 미탐이면 조향 천천히 0으로 복귀
                ema_steer *= NO_DET_STEER_DECAY
                cv2.putText(frame, "No target", (8,20), cv2.FONT_HERSHEY_SIMPLEX,
                            0.6, (0,0,255), 2, cv2.LINE_AA)

            # 차량에 적용
            car.steering = float(np.clip(ema_steer, -1, 1))

            # 보기
            Util.imshow("follow", frame)
            if Util.waitKey(1) & 0xFF == 27:   # ESC로 종료
                break

    except KeyboardInterrupt:
        pass
    finally:
        car.stop()
        Util.destroyAllWindows()

if __name__ == "__main__":
    main()
